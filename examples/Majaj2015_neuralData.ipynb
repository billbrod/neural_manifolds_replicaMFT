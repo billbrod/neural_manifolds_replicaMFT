{
 "cells": [
  {
   "cell_type": "markdown",
   "id": "193eb200",
   "metadata": {},
   "source": [
    "This is an example of how to use the codes in this repo. "
   ]
  },
  {
   "cell_type": "code",
   "execution_count": 1,
   "id": "ff1b01fe",
   "metadata": {},
   "outputs": [
    {
     "name": "stderr",
     "output_type": "stream",
     "text": [
      "/home/billbrod/miniconda3/envs/manifolds/lib/python3.9/site-packages/brainscore/metrics/__init__.py:37: FutureWarning: xarray subclass Score should explicitly define __slots__\n",
      "  class Score(DataAssembly):\n"
     ]
    }
   ],
   "source": [
    "import brainscore\n",
    "import pandas as pd\n",
    "import numpy as np\n",
    "\n",
    "%load_ext autoreload\n",
    "%autoreload 2"
   ]
  },
  {
   "cell_type": "markdown",
   "id": "f6dfe382",
   "metadata": {},
   "source": [
    "## Load Neural Data from Brainscore\n",
    "\n",
    "For this example, we will use the MajajHong2015 data with neural data from IT and V4. "
   ]
  },
  {
   "cell_type": "code",
   "execution_count": 2,
   "id": "f855527e",
   "metadata": {},
   "outputs": [
    {
     "name": "stdout",
     "output_type": "stream",
     "text": [
      "Loading catalog from entrypoints\n",
      "Loading lookup from /home/billbrod/miniconda3/envs/manifolds/lib/python3.9/site-packages/brainscore/lookup.csv\n"
     ]
    },
    {
     "name": "stderr",
     "output_type": "stream",
     "text": [
      "brai\n",
      "brai\n",
      "brai\n"
     ]
    }
   ],
   "source": [
    "# loading Neural Data\n",
    "Majaj2015 = brainscore.get_assembly(name=\"dicarlo.MajajHong2015.public\")\n",
    "stimulus_set = Majaj2015.attrs[\"stimulus_set\"].sort_values(by=['category_name', 'object_name', 'image_id'])\n",
    "\n",
    "# and load images from paths\n",
    "\n",
    "neural_data = Majaj2015.multi_groupby(['category_name', 'object_name', 'image_id']).mean(dim=\"presentation\").squeeze('time_bin')\n",
    "assert all(neural_data['image_id'].values == stimulus_set['image_id'].values)\n",
    "# add 'variation' along 'presentation' axis and append as a multi-index\n",
    "neural_data['variation'] = (('presentation'), stimulus_set['variation'])\n",
    "neural_data = neural_data.set_index(presentation=['variation'], append=True)\n",
    "\n",
    "obj_class = pd.unique(stimulus_set['object_name'])\n",
    "category = pd.unique(stimulus_set[\"category_name\"])\n",
    "it_data = neural_data[neural_data['region']==\"IT\"]\n",
    "vfour_data = neural_data[neural_data['region']==\"V4\"]\n",
    "assert all(it_data[\"image_id\"] == stimulus_set[\"image_id\"])"
   ]
  },
  {
   "cell_type": "markdown",
   "id": "6941e000",
   "metadata": {},
   "source": [
    "We create a dictionary to contain the neural data. Each key of the dictionary is the layer name. The neural data in each layer is structured as a list of manifolds (classes), each with the shape (Number of Neurons/Features, Number of Examples). "
   ]
  },
  {
   "cell_type": "code",
   "execution_count": 3,
   "id": "7ee23f65",
   "metadata": {},
   "outputs": [
    {
     "name": "stdout",
     "output_type": "stream",
     "text": [
      "In IT, there are 64 manifolds/classes.\n",
      "Each manifold has shape (168, 50)\n",
      "In V4, there are 64 manifolds/classes.\n",
      "Each manifold has shape (88, 50)\n"
     ]
    }
   ],
   "source": [
    "# create neural manifold data classifying by 'object_name'\n",
    "\n",
    "neural_dict = {}\n",
    "\n",
    "it_manifold_data = []\n",
    "for c in obj_class:\n",
    "    #print(c)\n",
    "    ind = stimulus_set[stimulus_set['object_name']==c].index\n",
    "    #print(neural_data['image_id'][ind].shape)\n",
    "    data = np.array(it_data[:,ind].values)\n",
    "    it_manifold_data.append(data)\n",
    "\n",
    "neural_dict[\"IT\"] = it_manifold_data\n",
    "\n",
    "v4_manifold_data = []\n",
    "for c in obj_class:\n",
    "    #print(c)\n",
    "    ind = stimulus_set[stimulus_set['object_name']==c].index\n",
    "    #print(neural_data['image_id'][ind].shape)\n",
    "    data = np.array(vfour_data[:,ind].values)\n",
    "    v4_manifold_data.append(data)\n",
    "\n",
    "neural_dict[\"V4\"] = v4_manifold_data\n",
    "\n",
    "for layer in neural_dict.keys():\n",
    "    print(f\"In {layer}, there are {len(neural_dict[layer])} manifolds/classes.\")\n",
    "    print(f\"Each manifold has shape {neural_dict[layer][0].shape}\")"
   ]
  },
  {
   "cell_type": "markdown",
   "id": "7f000200",
   "metadata": {},
   "source": [
    "You can save the dictionary as a json file as follow."
   ]
  },
  {
   "cell_type": "code",
   "execution_count": 5,
   "id": "f803b95f",
   "metadata": {},
   "outputs": [],
   "source": [
    "import json\n",
    "from json_numpy import default,object_hook\n",
    "\n",
    "json_object = json.dumps(neural_dict,default=default)\n",
    "with open('Majaj2015object.json', 'w') as outfile:\n",
    "    outfile.write(json_object)\n",
    "    outfile.close()"
   ]
  },
  {
   "cell_type": "markdown",
   "id": "7ea57840",
   "metadata": {},
   "source": [
    "## Calculating Capacity\n",
    "\n",
    "Manifold analysis calculates the theoretical capacity of the layers in question along with the manifold radius and dimension. "
   ]
  },
  {
   "cell_type": "code",
   "execution_count": null,
   "id": "1025a057",
   "metadata": {},
   "outputs": [],
   "source": [
    "from mftma.manifold_analysis_correlation import manifold_analysis_corr\n",
    "\n",
    "for layer, X in neural_dict.items():\n",
    "    alpha, rad, dim, _, _ = manifold_analysis_corr(X, 0, 300) \n",
    "    # Compute the mean values\n",
    "    a = 1/np.mean(1/alpha)\n",
    "    r = np.mean(rad)\n",
    "    d = np.mean(dim)\n",
    "    print(f\"{layer} capacity: {a}, radius {r}, dimension {d}\")"
   ]
  }
 ],
 "metadata": {
  "kernelspec": {
   "display_name": "Python [conda env:manifolds]",
   "language": "python",
   "name": "conda-env-manifolds-py"
  },
  "language_info": {
   "codemirror_mode": {
    "name": "ipython",
    "version": 3
   },
   "file_extension": ".py",
   "mimetype": "text/x-python",
   "name": "python",
   "nbconvert_exporter": "python",
   "pygments_lexer": "ipython3",
   "version": "3.9.0"
  },
  "vscode": {
   "interpreter": {
    "hash": "944a8ede06722d1a0c6973e17e7fbd2af78e97f1c257ca53ce11df632d19baa0"
   }
  }
 },
 "nbformat": 4,
 "nbformat_minor": 5
}
